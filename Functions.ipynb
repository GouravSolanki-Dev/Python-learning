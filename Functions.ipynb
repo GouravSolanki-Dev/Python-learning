{
  "nbformat": 4,
  "nbformat_minor": 0,
  "metadata": {
    "colab": {
      "provenance": []
    },
    "kernelspec": {
      "name": "python3",
      "display_name": "Python 3"
    },
    "language_info": {
      "name": "python"
    }
  },
  "cells": [
    {
      "cell_type": "markdown",
      "source": [
        "# ***Functions In Python***"
      ],
      "metadata": {
        "id": "OdArnXP-mlhg"
      }
    },
    {
      "cell_type": "code",
      "source": [
        "def even_odd(num):\n",
        "  if num%2==0:\n",
        "    print('Even')\n",
        "  else:\n",
        "    print('Odd')\n",
        "\n"
      ],
      "metadata": {
        "id": "vIpE_RX3mucp"
      },
      "execution_count": 2,
      "outputs": []
    },
    {
      "cell_type": "code",
      "source": [
        "even_odd(25)"
      ],
      "metadata": {
        "colab": {
          "base_uri": "https://localhost:8080/"
        },
        "id": "6tGyEXgGmuRz",
        "outputId": "ad904c5c-0ab9-4f9a-af75-a59e3078ce3f"
      },
      "execution_count": 3,
      "outputs": [
        {
          "output_type": "stream",
          "name": "stdout",
          "text": [
            "Odd\n"
          ]
        }
      ]
    },
    {
      "cell_type": "code",
      "source": [
        "def hello():\n",
        "  print('Hello world')\n",
        "\n",
        "print(hello())"
      ],
      "metadata": {
        "colab": {
          "base_uri": "https://localhost:8080/"
        },
        "id": "vytIL3XYmuKR",
        "outputId": "c5f0f89b-4986-4e33-9743-b8e4daab3990"
      },
      "execution_count": 4,
      "outputs": [
        {
          "output_type": "stream",
          "name": "stdout",
          "text": [
            "Hello world\n",
            "None\n"
          ]
        }
      ]
    },
    {
      "cell_type": "code",
      "source": [
        "var=hello()\n",
        "\n",
        "print(var)"
      ],
      "metadata": {
        "colab": {
          "base_uri": "https://localhost:8080/"
        },
        "id": "PSxmrY1Amt_j",
        "outputId": "f84afcbe-d0b6-4863-b5ad-33285ba86e2e"
      },
      "execution_count": 5,
      "outputs": [
        {
          "output_type": "stream",
          "name": "stdout",
          "text": [
            "Hello world\n",
            "None\n"
          ]
        }
      ]
    },
    {
      "cell_type": "code",
      "execution_count": 7,
      "metadata": {
        "colab": {
          "base_uri": "https://localhost:8080/"
        },
        "id": "nk1kON-EmkFx",
        "outputId": "8d06eabc-7c71-4d95-eb9e-4d7763ee2e68"
      },
      "outputs": [
        {
          "output_type": "stream",
          "name": "stdout",
          "text": [
            "Hello world\n"
          ]
        }
      ],
      "source": [
        "def hello_world():\n",
        "  return 'Hello world'\n",
        "\n",
        "print(hello_world())"
      ]
    },
    {
      "cell_type": "code",
      "source": [
        "def add_num(num1,num2):\n",
        "  return num1+num2"
      ],
      "metadata": {
        "id": "rpRJnBMo9ZIE"
      },
      "execution_count": 8,
      "outputs": []
    },
    {
      "cell_type": "code",
      "source": [
        "var= add_num(20,52)\n",
        "print(var)"
      ],
      "metadata": {
        "colab": {
          "base_uri": "https://localhost:8080/"
        },
        "id": "O3eClIgj9ZEs",
        "outputId": "956b40f7-e546-47c8-fc8c-57db122af6be"
      },
      "execution_count": 9,
      "outputs": [
        {
          "output_type": "stream",
          "name": "stdout",
          "text": [
            "72\n"
          ]
        }
      ]
    },
    {
      "cell_type": "code",
      "source": [
        "# positional argument\n",
        "# keyword argument\n",
        "\n",
        "def key(name, age=26):\n",
        "  print('my name is {} and my age is {}'.format(name,age))"
      ],
      "metadata": {
        "id": "ssqMBViv9ZB2"
      },
      "execution_count": 10,
      "outputs": []
    },
    {
      "cell_type": "code",
      "source": [
        "var= key('ben')\n",
        "print(var)"
      ],
      "metadata": {
        "colab": {
          "base_uri": "https://localhost:8080/"
        },
        "id": "Mr2UVX_G9Y_v",
        "outputId": "6a8d1c06-0a3f-418f-ed08-7b241f9a8f3e"
      },
      "execution_count": 11,
      "outputs": [
        {
          "output_type": "stream",
          "name": "stdout",
          "text": [
            "my name is ben and my age is 26\n",
            "None\n"
          ]
        }
      ]
    },
    {
      "cell_type": "code",
      "source": [
        "var= key('ben',25)\n",
        "print(var)"
      ],
      "metadata": {
        "colab": {
          "base_uri": "https://localhost:8080/"
        },
        "id": "C-5WAW3F9Y8Z",
        "outputId": "a3930333-2f04-4859-c1a2-7c50c0113562"
      },
      "execution_count": 13,
      "outputs": [
        {
          "output_type": "stream",
          "name": "stdout",
          "text": [
            "my name is ben and my age is 25\n",
            "None\n"
          ]
        }
      ]
    },
    {
      "cell_type": "code",
      "source": [
        "def new(*args,**kwargs):\n",
        "  print(args)\n",
        "  print(kwargs)"
      ],
      "metadata": {
        "id": "sothVFVR9Y5i"
      },
      "execution_count": 14,
      "outputs": []
    },
    {
      "cell_type": "code",
      "source": [
        "new('Gourav','Solanki',age=25,Dob=1997)"
      ],
      "metadata": {
        "colab": {
          "base_uri": "https://localhost:8080/"
        },
        "id": "9bGaXuxP9Y2s",
        "outputId": "a0de24ec-b1ed-4af6-a72b-a342648e7f50"
      },
      "execution_count": 15,
      "outputs": [
        {
          "output_type": "stream",
          "name": "stdout",
          "text": [
            "('Gourav', 'Solanki')\n",
            "{'age': 25, 'Dob': 1997}\n"
          ]
        }
      ]
    },
    {
      "cell_type": "code",
      "source": [
        "st=('Gourav', 'Solanki')\n",
        "nd={'age': 25, 'Dob': 1997}"
      ],
      "metadata": {
        "id": "z-xq5QKK9Yz2"
      },
      "execution_count": 17,
      "outputs": []
    },
    {
      "cell_type": "code",
      "source": [
        "new(st,nd)"
      ],
      "metadata": {
        "colab": {
          "base_uri": "https://localhost:8080/"
        },
        "id": "YEKwnvKi9Yw9",
        "outputId": "1cdfc10b-6271-4748-e305-24b9a05a9c32"
      },
      "execution_count": 18,
      "outputs": [
        {
          "output_type": "stream",
          "name": "stdout",
          "text": [
            "(('Gourav', 'Solanki'), {'age': 25, 'Dob': 1997})\n",
            "{}\n"
          ]
        }
      ]
    },
    {
      "cell_type": "code",
      "source": [
        "new(*st,**nd)"
      ],
      "metadata": {
        "colab": {
          "base_uri": "https://localhost:8080/"
        },
        "id": "E25S-AIy9YuX",
        "outputId": "99c61dd6-7834-4bab-aa6d-6706159dd548"
      },
      "execution_count": 19,
      "outputs": [
        {
          "output_type": "stream",
          "name": "stdout",
          "text": [
            "('Gourav', 'Solanki')\n",
            "{'age': 25, 'Dob': 1997}\n"
          ]
        }
      ]
    },
    {
      "cell_type": "code",
      "source": [
        "lst=[1,2,3,4,5,6,7,8,9]"
      ],
      "metadata": {
        "id": "WEhli6oN9YrQ"
      },
      "execution_count": 31,
      "outputs": []
    },
    {
      "cell_type": "code",
      "source": [
        "def evenoddsum(lst):\n",
        "  even=0\n",
        "  odd=0\n",
        "  for j in lst:\n",
        "    if j%2==0:\n",
        "      even=even+j\n",
        "    else:\n",
        "      odd=odd+j\n",
        "  return even,odd"
      ],
      "metadata": {
        "id": "83d2g7Q_9Yoa"
      },
      "execution_count": 42,
      "outputs": []
    },
    {
      "cell_type": "code",
      "source": [
        "evenoddsum(lst)"
      ],
      "metadata": {
        "colab": {
          "base_uri": "https://localhost:8080/"
        },
        "id": "5AwH6x059Yl0",
        "outputId": "a54f8ed7-604e-4c50-a201-b16599c8bb3f"
      },
      "execution_count": 43,
      "outputs": [
        {
          "output_type": "execute_result",
          "data": {
            "text/plain": [
              "(20, 25)"
            ]
          },
          "metadata": {},
          "execution_count": 43
        }
      ]
    },
    {
      "cell_type": "markdown",
      "source": [
        "# ***Map Function IN Python***"
      ],
      "metadata": {
        "id": "guYAD20kJvr8"
      }
    },
    {
      "cell_type": "code",
      "source": [
        "def even_odd(num):\n",
        "  if num%2==0:\n",
        "    print('Even')\n",
        "  else:\n",
        "    print('Odd')"
      ],
      "metadata": {
        "id": "85ymF-NL9Yi-"
      },
      "execution_count": 44,
      "outputs": []
    },
    {
      "cell_type": "code",
      "source": [
        "lis=[1,2,3,11,12,13,111,121,122,1232,10]"
      ],
      "metadata": {
        "id": "wZpg7FQC9YgX"
      },
      "execution_count": 46,
      "outputs": []
    },
    {
      "cell_type": "code",
      "source": [
        "list(map(even_odd,lis))"
      ],
      "metadata": {
        "colab": {
          "base_uri": "https://localhost:8080/"
        },
        "id": "utWJ53Yw9Ydl",
        "outputId": "8d327017-fa49-4075-8792-33601c50f046"
      },
      "execution_count": 47,
      "outputs": [
        {
          "output_type": "stream",
          "name": "stdout",
          "text": [
            "Odd\n",
            "Even\n",
            "Odd\n",
            "Odd\n",
            "Even\n",
            "Odd\n",
            "Odd\n",
            "Odd\n",
            "Even\n",
            "Even\n",
            "Even\n"
          ]
        },
        {
          "output_type": "execute_result",
          "data": {
            "text/plain": [
              "[None, None, None, None, None, None, None, None, None, None, None]"
            ]
          },
          "metadata": {},
          "execution_count": 47
        }
      ]
    },
    {
      "cell_type": "markdown",
      "source": [
        "# **Lambda Function**\n",
        "> Anonymous Function\n",
        "\n",
        "> A function with no name"
      ],
      "metadata": {
        "id": "3UzvX13rTwNC"
      }
    },
    {
      "cell_type": "code",
      "source": [
        "addition= lambda a,b:a+b"
      ],
      "metadata": {
        "id": "VaLAnEpA9Ybf"
      },
      "execution_count": 48,
      "outputs": []
    },
    {
      "cell_type": "code",
      "source": [
        "addition(4,12)"
      ],
      "metadata": {
        "colab": {
          "base_uri": "https://localhost:8080/"
        },
        "id": "BWn_G9lJ9YX-",
        "outputId": "6143dd64-e103-479f-8e6e-21edf35e666d"
      },
      "execution_count": 49,
      "outputs": [
        {
          "output_type": "execute_result",
          "data": {
            "text/plain": [
              "16"
            ]
          },
          "metadata": {},
          "execution_count": 49
        }
      ]
    },
    {
      "cell_type": "code",
      "source": [
        "evenodd_check= lambda a:a%2==0"
      ],
      "metadata": {
        "id": "a7xGSeanVAbb"
      },
      "execution_count": 50,
      "outputs": []
    },
    {
      "cell_type": "code",
      "source": [
        "evenodd_check(5)"
      ],
      "metadata": {
        "colab": {
          "base_uri": "https://localhost:8080/"
        },
        "id": "L47PMt4PVANV",
        "outputId": "ac84e133-f390-4fb7-9b18-280f1d54152c"
      },
      "execution_count": 52,
      "outputs": [
        {
          "output_type": "execute_result",
          "data": {
            "text/plain": [
              "False"
            ]
          },
          "metadata": {},
          "execution_count": 52
        }
      ]
    },
    {
      "cell_type": "markdown",
      "source": [
        "Lambda Function can't have multiple conditions "
      ],
      "metadata": {
        "id": "vmVfDXFQVW55"
      }
    },
    {
      "cell_type": "markdown",
      "source": [
        "# **Filter Function**"
      ],
      "metadata": {
        "id": "OQEDHW-HVnnG"
      }
    },
    {
      "cell_type": "code",
      "source": [
        "def even(num):\n",
        "  if num%2==0:\n",
        "    return True"
      ],
      "metadata": {
        "id": "W19_yYDwWN9a"
      },
      "execution_count": 53,
      "outputs": []
    },
    {
      "cell_type": "code",
      "source": [
        "lis=[1,2,3,11,12,13,111,121,122,1232,10]"
      ],
      "metadata": {
        "id": "SxR06grYWN6C"
      },
      "execution_count": 54,
      "outputs": []
    },
    {
      "cell_type": "code",
      "source": [
        "list(filter(even,lis))"
      ],
      "metadata": {
        "colab": {
          "base_uri": "https://localhost:8080/"
        },
        "id": "n10Hn9AfWNwI",
        "outputId": "a9a56a33-4f18-41f0-e474-32783a349922"
      },
      "execution_count": 55,
      "outputs": [
        {
          "output_type": "execute_result",
          "data": {
            "text/plain": [
              "[2, 12, 122, 1232, 10]"
            ]
          },
          "metadata": {},
          "execution_count": 55
        }
      ]
    },
    {
      "cell_type": "code",
      "source": [
        "list(filter(lambda a:a%2==0,lis))"
      ],
      "metadata": {
        "colab": {
          "base_uri": "https://localhost:8080/"
        },
        "id": "QBgL2n1kWNko",
        "outputId": "e8349c10-2983-4940-cd35-83659d76f71a"
      },
      "execution_count": 56,
      "outputs": [
        {
          "output_type": "execute_result",
          "data": {
            "text/plain": [
              "[2, 12, 122, 1232, 10]"
            ]
          },
          "metadata": {},
          "execution_count": 56
        }
      ]
    },
    {
      "cell_type": "code",
      "source": [
        "list(filter(lambda a:a%2!=0,lis))"
      ],
      "metadata": {
        "colab": {
          "base_uri": "https://localhost:8080/"
        },
        "id": "xM0bW2-hZLda",
        "outputId": "04dead0a-743e-4dcc-8397-0ca49a8dabbb"
      },
      "execution_count": 57,
      "outputs": [
        {
          "output_type": "execute_result",
          "data": {
            "text/plain": [
              "[1, 3, 11, 13, 111, 121]"
            ]
          },
          "metadata": {},
          "execution_count": 57
        }
      ]
    },
    {
      "cell_type": "code",
      "source": [],
      "metadata": {
        "id": "_jIywuvJZLVp"
      },
      "execution_count": null,
      "outputs": []
    }
  ]
}