{
  "nbformat": 4,
  "nbformat_minor": 0,
  "metadata": {
    "colab": {
      "provenance": []
    },
    "kernelspec": {
      "name": "python3",
      "display_name": "Python 3"
    },
    "language_info": {
      "name": "python"
    }
  },
  "cells": [
    {
      "cell_type": "markdown",
      "source": [
        "# **List Comprehension**\n",
        ">> List comprehension in Python is an easy and compact syntax for creating a list from a string or another list. It is a very concise way to create a new list by performing an operation on each item in the existing list. List comprehension is considerably faster than processing a list using the for loop."
      ],
      "metadata": {
        "id": "gudal3vo11Hs"
      }
    },
    {
      "cell_type": "code",
      "execution_count": 1,
      "metadata": {
        "id": "iVqmHA21b9zv"
      },
      "outputs": [],
      "source": [
        "lis1=[]\n",
        "def sqr(lst):\n",
        "  for i in lst:\n",
        "    lis1.append(i*i)\n",
        "  return lis1"
      ]
    },
    {
      "cell_type": "code",
      "source": [
        "list1=[1,2,3,4,5,6,7,8]"
      ],
      "metadata": {
        "id": "uozsfP2B5KaU"
      },
      "execution_count": 2,
      "outputs": []
    },
    {
      "cell_type": "code",
      "source": [
        "sqr(list1)"
      ],
      "metadata": {
        "colab": {
          "base_uri": "https://localhost:8080/"
        },
        "id": "VGl3Zrgo5KW4",
        "outputId": "81afb493-05a4-475b-d5c2-1510460fd8dd"
      },
      "execution_count": 3,
      "outputs": [
        {
          "output_type": "execute_result",
          "data": {
            "text/plain": [
              "[1, 4, 9, 16, 25, 36, 49, 64]"
            ]
          },
          "metadata": {},
          "execution_count": 3
        }
      ]
    },
    {
      "cell_type": "code",
      "source": [
        "[i*i for i in list1]"
      ],
      "metadata": {
        "colab": {
          "base_uri": "https://localhost:8080/"
        },
        "id": "LkbHy42C5KSZ",
        "outputId": "ac104f0e-a1b1-4090-a78c-64a822435110"
      },
      "execution_count": 4,
      "outputs": [
        {
          "output_type": "execute_result",
          "data": {
            "text/plain": [
              "[1, 4, 9, 16, 25, 36, 49, 64]"
            ]
          },
          "metadata": {},
          "execution_count": 4
        }
      ]
    },
    {
      "cell_type": "code",
      "source": [
        "[i*i for i in list1 if i%2==0]"
      ],
      "metadata": {
        "colab": {
          "base_uri": "https://localhost:8080/"
        },
        "id": "q839J6gc5KHl",
        "outputId": "b81f4d54-959a-486f-d928-9692bba6d223"
      },
      "execution_count": 5,
      "outputs": [
        {
          "output_type": "execute_result",
          "data": {
            "text/plain": [
              "[4, 16, 36, 64]"
            ]
          },
          "metadata": {},
          "execution_count": 5
        }
      ]
    },
    {
      "cell_type": "code",
      "source": [
        "lst1=[i*i for i in list1 if i%2!=0]"
      ],
      "metadata": {
        "id": "ox5FFYYJ5J6W"
      },
      "execution_count": 6,
      "outputs": []
    },
    {
      "cell_type": "code",
      "source": [
        "lst1"
      ],
      "metadata": {
        "colab": {
          "base_uri": "https://localhost:8080/"
        },
        "id": "v8JT3BZi54uH",
        "outputId": "c9b78d99-7b95-4bc0-ade7-4ba3568896df"
      },
      "execution_count": 7,
      "outputs": [
        {
          "output_type": "execute_result",
          "data": {
            "text/plain": [
              "[1, 9, 25, 49]"
            ]
          },
          "metadata": {},
          "execution_count": 7
        }
      ]
    },
    {
      "cell_type": "markdown",
      "source": [
        "### **Python List Iterables Vs Iterators**"
      ],
      "metadata": {
        "id": "78a3vKy75886"
      }
    },
    {
      "cell_type": "code",
      "source": [
        "## By default List is iterables\n",
        "lis=[1,2,3,4,5]"
      ],
      "metadata": {
        "id": "S35mcgNC54qw"
      },
      "execution_count": 8,
      "outputs": []
    },
    {
      "cell_type": "code",
      "source": [
        "lis"
      ],
      "metadata": {
        "colab": {
          "base_uri": "https://localhost:8080/"
        },
        "id": "vxRQSDey54nt",
        "outputId": "36a4becf-a11a-44b5-85a8-7e7e88901642"
      },
      "execution_count": 9,
      "outputs": [
        {
          "output_type": "execute_result",
          "data": {
            "text/plain": [
              "[1, 2, 3, 4, 5]"
            ]
          },
          "metadata": {},
          "execution_count": 9
        }
      ]
    },
    {
      "cell_type": "code",
      "source": [
        "## Converting list into Iterator\n",
        "lis1=iter(lis)"
      ],
      "metadata": {
        "id": "jc5a2sO454ku"
      },
      "execution_count": 10,
      "outputs": []
    },
    {
      "cell_type": "code",
      "source": [
        "lis1"
      ],
      "metadata": {
        "colab": {
          "base_uri": "https://localhost:8080/"
        },
        "id": "UPld44cM54iB",
        "outputId": "4c23c390-2c5b-4783-a922-647a955d41a6"
      },
      "execution_count": 11,
      "outputs": [
        {
          "output_type": "execute_result",
          "data": {
            "text/plain": [
              "<list_iterator at 0x7fd605514790>"
            ]
          },
          "metadata": {},
          "execution_count": 11
        }
      ]
    },
    {
      "cell_type": "code",
      "source": [
        "next(lis1)"
      ],
      "metadata": {
        "colab": {
          "base_uri": "https://localhost:8080/"
        },
        "id": "VKVXV4cY54ex",
        "outputId": "4736c0e1-2142-4e06-a629-223cd99ea155"
      },
      "execution_count": 12,
      "outputs": [
        {
          "output_type": "execute_result",
          "data": {
            "text/plain": [
              "1"
            ]
          },
          "metadata": {},
          "execution_count": 12
        }
      ]
    },
    {
      "cell_type": "markdown",
      "source": [
        "it will display the first element of the list at starting then follow along the next element"
      ],
      "metadata": {
        "id": "yqM3-RP-86zQ"
      }
    },
    {
      "cell_type": "code",
      "source": [
        "next(lis1)"
      ],
      "metadata": {
        "colab": {
          "base_uri": "https://localhost:8080/"
        },
        "id": "Z2M_0k5I9EPo",
        "outputId": "4ef0e525-90e7-4bd5-8e40-ea00fbbbfded"
      },
      "execution_count": 13,
      "outputs": [
        {
          "output_type": "execute_result",
          "data": {
            "text/plain": [
              "2"
            ]
          },
          "metadata": {},
          "execution_count": 13
        }
      ]
    },
    {
      "cell_type": "code",
      "source": [
        "next(lis1)"
      ],
      "metadata": {
        "colab": {
          "base_uri": "https://localhost:8080/"
        },
        "id": "3Fe_i0W69E-u",
        "outputId": "d1f56fdd-dc3c-408b-8669-508984c2a64d"
      },
      "execution_count": 14,
      "outputs": [
        {
          "output_type": "execute_result",
          "data": {
            "text/plain": [
              "3"
            ]
          },
          "metadata": {},
          "execution_count": 14
        }
      ]
    },
    {
      "cell_type": "code",
      "source": [
        "next(lis1)"
      ],
      "metadata": {
        "colab": {
          "base_uri": "https://localhost:8080/"
        },
        "id": "5SJQW-e99E7N",
        "outputId": "00cfd881-d148-4d6a-e263-7b04c95ff19b"
      },
      "execution_count": 15,
      "outputs": [
        {
          "output_type": "execute_result",
          "data": {
            "text/plain": [
              "4"
            ]
          },
          "metadata": {},
          "execution_count": 15
        }
      ]
    },
    {
      "cell_type": "code",
      "source": [
        "next(lis1)"
      ],
      "metadata": {
        "colab": {
          "base_uri": "https://localhost:8080/"
        },
        "id": "bRELNzm99E4k",
        "outputId": "a5d2b8d4-dcf0-4483-d324-ac6f1330b2fd"
      },
      "execution_count": 16,
      "outputs": [
        {
          "output_type": "execute_result",
          "data": {
            "text/plain": [
              "5"
            ]
          },
          "metadata": {},
          "execution_count": 16
        }
      ]
    },
    {
      "cell_type": "code",
      "source": [
        "next(lis1)"
      ],
      "metadata": {
        "colab": {
          "base_uri": "https://localhost:8080/",
          "height": 165
        },
        "id": "W-QQVy849E1v",
        "outputId": "f1806a67-48ef-4bcd-9910-3a5ff7c389f4"
      },
      "execution_count": 17,
      "outputs": [
        {
          "output_type": "error",
          "ename": "StopIteration",
          "evalue": "ignored",
          "traceback": [
            "\u001b[0;31m---------------------------------------------------------------------------\u001b[0m",
            "\u001b[0;31mStopIteration\u001b[0m                             Traceback (most recent call last)",
            "\u001b[0;32m<ipython-input-17-c099e15a90fe>\u001b[0m in \u001b[0;36m<module>\u001b[0;34m\u001b[0m\n\u001b[0;32m----> 1\u001b[0;31m \u001b[0mnext\u001b[0m\u001b[0;34m(\u001b[0m\u001b[0mlis1\u001b[0m\u001b[0;34m)\u001b[0m\u001b[0;34m\u001b[0m\u001b[0;34m\u001b[0m\u001b[0m\n\u001b[0m",
            "\u001b[0;31mStopIteration\u001b[0m: "
          ]
        }
      ]
    },
    {
      "cell_type": "markdown",
      "source": [
        "When we reach at the last element we can't get the next value, so it will throw an error "
      ],
      "metadata": {
        "id": "okNk5IQ49N57"
      }
    },
    {
      "cell_type": "code",
      "source": [
        "# For loop works in the same manner as Iterabel.\n",
        "#Iterator is basically used for memory saving"
      ],
      "metadata": {
        "id": "UsE0JSDO9Eyz"
      },
      "execution_count": null,
      "outputs": []
    },
    {
      "cell_type": "markdown",
      "source": [
        "*Iterable an iterators both work in the same way for For loop*"
      ],
      "metadata": {
        "id": "5D23q7AT-NdD"
      }
    },
    {
      "cell_type": "code",
      "source": [],
      "metadata": {
        "id": "rujQJmjr9EwB"
      },
      "execution_count": null,
      "outputs": []
    }
  ]
}