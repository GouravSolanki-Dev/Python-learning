{
 "cells": [
  {
   "cell_type": "markdown",
   "metadata": {},
   "source": [
    "# Python Exception Handling"
   ]
  },
  {
   "cell_type": "code",
   "execution_count": 1,
   "metadata": {},
   "outputs": [],
   "source": [
    "a=10"
   ]
  },
  {
   "cell_type": "code",
   "execution_count": 2,
   "metadata": {},
   "outputs": [
    {
     "ename": "NameError",
     "evalue": "name 'b' is not defined",
     "output_type": "error",
     "traceback": [
      "\u001b[1;31m---------------------------------------------------------------------------\u001b[0m",
      "\u001b[1;31mNameError\u001b[0m                                 Traceback (most recent call last)",
      "\u001b[1;32m<ipython-input-2-488068fe1e94>\u001b[0m in \u001b[0;36m<module>\u001b[1;34m\u001b[0m\n\u001b[1;32m----> 1\u001b[1;33m \u001b[0ma\u001b[0m\u001b[1;33m=\u001b[0m\u001b[0mb\u001b[0m\u001b[1;33m\u001b[0m\u001b[1;33m\u001b[0m\u001b[0m\n\u001b[0m",
      "\u001b[1;31mNameError\u001b[0m: name 'b' is not defined"
     ]
    }
   ],
   "source": [
    "a=b"
   ]
  },
  {
   "cell_type": "code",
   "execution_count": 3,
   "metadata": {},
   "outputs": [
    {
     "name": "stdout",
     "output_type": "stream",
     "text": [
      "Some error occured\n"
     ]
    }
   ],
   "source": [
    "try:\n",
    "    a=b\n",
    "except:\n",
    "    print('Some error occured')"
   ]
  },
  {
   "cell_type": "markdown",
   "metadata": {},
   "source": [
    "It is not clear exactly what has happened, so we'll display the error message clearly."
   ]
  },
  {
   "cell_type": "code",
   "execution_count": 4,
   "metadata": {},
   "outputs": [
    {
     "name": "stdout",
     "output_type": "stream",
     "text": [
      "name 'b' is not defined\n"
     ]
    }
   ],
   "source": [
    "try:\n",
    "    a=b\n",
    "except Exception as ex:\n",
    "    print(ex)"
   ]
  },
  {
   "cell_type": "code",
   "execution_count": 5,
   "metadata": {},
   "outputs": [
    {
     "name": "stdout",
     "output_type": "stream",
     "text": [
      "Variable not defined\n"
     ]
    }
   ],
   "source": [
    "try:\n",
    "    a=b\n",
    "except NameError:\n",
    "    print('Variable not defined')\n",
    "except Exception as ex:\n",
    "    print(ex)"
   ]
  },
  {
   "cell_type": "code",
   "execution_count": 6,
   "metadata": {},
   "outputs": [
    {
     "ename": "TypeError",
     "evalue": "unsupported operand type(s) for +: 'int' and 'str'",
     "output_type": "error",
     "traceback": [
      "\u001b[1;31m---------------------------------------------------------------------------\u001b[0m",
      "\u001b[1;31mTypeError\u001b[0m                                 Traceback (most recent call last)",
      "\u001b[1;32m<ipython-input-6-49bdcca6e900>\u001b[0m in \u001b[0;36m<module>\u001b[1;34m\u001b[0m\n\u001b[0;32m      1\u001b[0m \u001b[0ma\u001b[0m\u001b[1;33m=\u001b[0m\u001b[1;36m10\u001b[0m\u001b[1;33m\u001b[0m\u001b[1;33m\u001b[0m\u001b[0m\n\u001b[0;32m      2\u001b[0m \u001b[0mb\u001b[0m\u001b[1;33m=\u001b[0m\u001b[1;34m'vh'\u001b[0m\u001b[1;33m\u001b[0m\u001b[1;33m\u001b[0m\u001b[0m\n\u001b[1;32m----> 3\u001b[1;33m \u001b[0ma\u001b[0m\u001b[1;33m+\u001b[0m\u001b[0mb\u001b[0m\u001b[1;33m\u001b[0m\u001b[1;33m\u001b[0m\u001b[0m\n\u001b[0m",
      "\u001b[1;31mTypeError\u001b[0m: unsupported operand type(s) for +: 'int' and 'str'"
     ]
    }
   ],
   "source": [
    "a=10\n",
    "b='vh'\n",
    "a+b"
   ]
  },
  {
   "cell_type": "code",
   "execution_count": 7,
   "metadata": {},
   "outputs": [
    {
     "name": "stdout",
     "output_type": "stream",
     "text": [
      "Please use similar DataType\n"
     ]
    }
   ],
   "source": [
    "try:\n",
    "    a=10\n",
    "    b='vh'\n",
    "    a+b\n",
    "except TypeError:\n",
    "    print('Please use similar DataType')\n",
    "except NameError:\n",
    "    print('Variable not defined')\n",
    "except Exception as ex:\n",
    "    print(ex)"
   ]
  },
  {
   "cell_type": "code",
   "execution_count": 8,
   "metadata": {},
   "outputs": [
    {
     "ename": "ZeroDivisionError",
     "evalue": "division by zero",
     "output_type": "error",
     "traceback": [
      "\u001b[1;31m---------------------------------------------------------------------------\u001b[0m",
      "\u001b[1;31mZeroDivisionError\u001b[0m                         Traceback (most recent call last)",
      "\u001b[1;32m<ipython-input-8-898e9759c56e>\u001b[0m in \u001b[0;36m<module>\u001b[1;34m\u001b[0m\n\u001b[1;32m----> 1\u001b[1;33m \u001b[1;36m12\u001b[0m\u001b[1;33m/\u001b[0m\u001b[1;36m0\u001b[0m\u001b[1;33m\u001b[0m\u001b[1;33m\u001b[0m\u001b[0m\n\u001b[0m",
      "\u001b[1;31mZeroDivisionError\u001b[0m: division by zero"
     ]
    }
   ],
   "source": [
    "12/0"
   ]
  },
  {
   "cell_type": "code",
   "execution_count": 9,
   "metadata": {},
   "outputs": [
    {
     "name": "stdout",
     "output_type": "stream",
     "text": [
      "Enter Number 1: 12\n",
      "Enter Number 2: 0\n",
      "Please Provide a number other than 0 for denumerator\n"
     ]
    }
   ],
   "source": [
    "try:\n",
    "    a=int(input(\"Enter Number 1: \"))\n",
    "    b=int(input(\"Enter Number 2: \"))\n",
    "    c=a/b\n",
    "except TypeError:\n",
    "    print('Please use similar DataType')\n",
    "except ZeroDivisionError:\n",
    "    print('Please Provide a number other than 0 for denumerator')\n",
    "except NameError:\n",
    "    print('Variable not defined')\n",
    "except Exception as ex:\n",
    "    print(ex)"
   ]
  },
  {
   "cell_type": "markdown",
   "metadata": {},
   "source": [
    "We can have Block in exception to display the Sucess message "
   ]
  },
  {
   "cell_type": "code",
   "execution_count": 11,
   "metadata": {},
   "outputs": [
    {
     "name": "stdout",
     "output_type": "stream",
     "text": [
      "Enter Number 1: 12\n",
      "Enter Number 2: 5\n",
      "Addition       : 17\n",
      "Substraction   : 7\n",
      "Multiplication : 60\n",
      "Division       : 2.4\n"
     ]
    }
   ],
   "source": [
    "## Try else block\n",
    "\n",
    "try:\n",
    "    a=int(input(\"Enter Number 1: \"))\n",
    "    b=int(input(\"Enter Number 2: \"))\n",
    "    c=a/b\n",
    "    d=a*b\n",
    "    e=a+b\n",
    "    f=a-b\n",
    "except TypeError:\n",
    "    print('Please use similar DataType')\n",
    "except ZeroDivisionError:\n",
    "    print('Please Provide a number other than 0 for denumerator')\n",
    "except NameError:\n",
    "    print('Variable not defined')\n",
    "except Exception as ex:\n",
    "    print(ex)\n",
    "else:\n",
    "    print('Addition       : {}'.format(e))\n",
    "    print('Substraction   : {}'.format(f))\n",
    "    print('Multiplication : {}'.format(d))\n",
    "    print('Division       : {}'.format(c))"
   ]
  },
  {
   "cell_type": "code",
   "execution_count": null,
   "metadata": {},
   "outputs": [],
   "source": [
    "## Try else block\n",
    "\n",
    "try:\n",
    "    a=int(input(\"Enter Number 1: \"))\n",
    "    b=int(input(\"Enter Number 2: \"))\n",
    "    c=a/b\n",
    "    d=a*b\n",
    "    e=a+b\n",
    "    f=a-b\n",
    "except TypeError:\n",
    "    print('Please use similar DataType')\n",
    "except ZeroDivisionError:\n",
    "    print('Please Provide a number other than 0 for denumerator')\n",
    "except NameError:\n",
    "    print('Variable not defined')\n",
    "except Exception as ex:\n",
    "    print(ex)\n",
    "else:\n",
    "    print('Addition       : {}'.format(e))\n",
    "    print('Substraction   : {}'.format(f))\n",
    "    print('Multiplication : {}'.format(d))\n",
    "    print('Division       : {}'.format(c))"
   ]
  },
  {
   "cell_type": "code",
   "execution_count": 12,
   "metadata": {},
   "outputs": [
    {
     "name": "stdout",
     "output_type": "stream",
     "text": [
      "Enter Number 1: 12\n",
      "Enter Number 2: 6\n",
      "Addition       : 18\n",
      "Substraction   : 6\n",
      "Multiplication : 72\n",
      "Division       : 2.0\n",
      "Execution is complete\n"
     ]
    }
   ],
   "source": [
    "## try else finally\n",
    "\n",
    "try:\n",
    "    a=int(input(\"Enter Number 1: \"))\n",
    "    b=int(input(\"Enter Number 2: \"))\n",
    "    c=a/b\n",
    "    d=a*b\n",
    "    e=a+b\n",
    "    f=a-b\n",
    "except TypeError:\n",
    "    print('Please use similar DataType')\n",
    "except ZeroDivisionError:\n",
    "    print('Please Provide a number other than 0 for denumerator')\n",
    "except NameError:\n",
    "    print('Variable not defined')\n",
    "except Exception as ex:\n",
    "    print(ex)\n",
    "else:\n",
    "    print('Addition       : {}'.format(e))\n",
    "    print('Substraction   : {}'.format(f))\n",
    "    print('Multiplication : {}'.format(d))\n",
    "    print('Division       : {}'.format(c))\n",
    "    \n",
    "finally:\n",
    "    print(\"Execution is complete\")"
   ]
  },
  {
   "cell_type": "code",
   "execution_count": 13,
   "metadata": {},
   "outputs": [
    {
     "name": "stdout",
     "output_type": "stream",
     "text": [
      "Enter Number 1: 12\n",
      "Enter Number 2: 0\n",
      "Please Provide a number other than 0 for denumerator\n",
      "Execution is complete\n"
     ]
    }
   ],
   "source": [
    "## try else finally\n",
    "\n",
    "try:\n",
    "    a=int(input(\"Enter Number 1: \"))\n",
    "    b=int(input(\"Enter Number 2: \"))\n",
    "    c=a/b\n",
    "    d=a*b\n",
    "    e=a+b\n",
    "    f=a-b\n",
    "except TypeError:\n",
    "    print('Please use similar DataType')\n",
    "except ZeroDivisionError:\n",
    "    print('Please Provide a number other than 0 for denumerator')\n",
    "except NameError:\n",
    "    print('Variable not defined')\n",
    "except Exception as ex:\n",
    "    print(ex)\n",
    "else:\n",
    "    print('Addition       : {}'.format(e))\n",
    "    print('Substraction   : {}'.format(f))\n",
    "    print('Multiplication : {}'.format(d))\n",
    "    print('Division       : {}'.format(c))\n",
    "    \n",
    "finally:\n",
    "    print(\"Execution is complete\")"
   ]
  },
  {
   "cell_type": "markdown",
   "metadata": {},
   "source": [
    "### Custom Exception"
   ]
  },
  {
   "cell_type": "code",
   "execution_count": 21,
   "metadata": {},
   "outputs": [],
   "source": [
    "class Error(Exception):\n",
    "    pass\n",
    "\n",
    "class DobException(Error):\n",
    "    pass\n"
   ]
  },
  {
   "cell_type": "code",
   "execution_count": 17,
   "metadata": {},
   "outputs": [
    {
     "name": "stdout",
     "output_type": "stream",
     "text": [
      "Enter the year of Birth:--1996\n",
      "Valid Age\n"
     ]
    }
   ],
   "source": [
    "year=int(input(\"Enter the year of Birth:--\"))\n",
    "\n",
    "Age=2022-year\n",
    "try:\n",
    "    if Age<=30 and Age>20:\n",
    "        print('Valid Age')\n",
    "    else:\n",
    "        raise DobException\n",
    "except DobException:\n",
    "    print(\"Please provide Valid D.O.B\")\n",
    "    "
   ]
  },
  {
   "cell_type": "code",
   "execution_count": 18,
   "metadata": {},
   "outputs": [
    {
     "name": "stdout",
     "output_type": "stream",
     "text": [
      "Enter the year of Birth:--1989\n",
      "Please provide Valid D.O.B\n"
     ]
    }
   ],
   "source": [
    "year=int(input(\"Enter the year of Birth:--\"))\n",
    "\n",
    "Age=2022-year\n",
    "try:\n",
    "    if Age<=30 and Age>20:\n",
    "        print('Valid Age')\n",
    "    else:\n",
    "        raise DobException\n",
    "except DobException:\n",
    "    print(\"Please provide Valid D.O.B\")\n",
    "    "
   ]
  }
 ],
 "metadata": {
  "kernelspec": {
   "display_name": "Python 3",
   "language": "python",
   "name": "python3"
  },
  "language_info": {
   "codemirror_mode": {
    "name": "ipython",
    "version": 3
   },
   "file_extension": ".py",
   "mimetype": "text/x-python",
   "name": "python",
   "nbconvert_exporter": "python",
   "pygments_lexer": "ipython3",
   "version": "3.7.3"
  }
 },
 "nbformat": 4,
 "nbformat_minor": 2
}
